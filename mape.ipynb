{
  "cells": [
    {
      "cell_type": "markdown",
      "metadata": {
        "id": "view-in-github",
        "colab_type": "text"
      },
      "source": [
        "<a href=\"https://colab.research.google.com/github/smithtarger/uaspsd/blob/main/mape.ipynb\" target=\"_parent\"><img src=\"https://colab.research.google.com/assets/colab-badge.svg\" alt=\"Open In Colab\"/></a>"
      ]
    },
    {
      "cell_type": "code",
      "execution_count": null,
      "metadata": {
        "id": "Rmz81NQelHGH",
        "outputId": "2553ad41-53ad-46d9-df11-b6d14cc2b256"
      },
      "outputs": [
        {
          "name": "stdout",
          "output_type": "stream",
          "text": [
            "Date          object\n",
            "Open         float64\n",
            "High         float64\n",
            "Low          float64\n",
            "Close        float64\n",
            "Adj Close    float64\n",
            "Volume         int64\n",
            "dtype: object\n"
          ]
        }
      ],
      "source": [
        "import pandas as pd\n",
        "from sklearn.model_selection import train_test_split\n",
        "from sklearn.preprocessing import MinMaxScaler\n",
        "from sklearn.neighbors import KNeighborsRegressor\n",
        "from sklearn.metrics import mean_absolute_percentage_error\n",
        "from sklearn.gaussian_process import GaussianProcessRegressor\n",
        "from sklearn.gaussian_process.kernels import DotProduct, WhiteKernel\n",
        "from sklearn.svm import SVR\n",
        "from sklearn.ensemble import BaggingRegressor\n",
        "from sklearn.ensemble import RandomForestRegressor\n",
        "from sklearn.ensemble import StackingRegressor\n",
        "from sklearn.linear_model import RidgeCV\n",
        "from sklearn.svm import LinearSVR\n",
        "from sklearn.tree import DecisionTreeRegressor\n",
        "from sklearn.linear_model import LinearRegression\n",
        "from sklearn.dummy import DummyRegressor\n",
        "df = pd.read_csv('bca.csv')\n",
        "print(df.dtypes)"
      ]
    },
    {
      "cell_type": "code",
      "execution_count": null,
      "metadata": {
        "id": "4l6Gm_eZlHGM",
        "outputId": "e7257042-027a-4335-9415-d5c4d2da280d"
      },
      "outputs": [
        {
          "name": "stdout",
          "output_type": "stream",
          "text": [
            "Mean Absolute Percentage Error (MAPE): 0.07199586677695029\n"
          ]
        },
        {
          "name": "stderr",
          "output_type": "stream",
          "text": [
            "/home/ubuntu/.local/lib/python3.8/site-packages/sklearn/gaussian_process/kernels.py:430: ConvergenceWarning: The optimal value found for dimension 0 of parameter k1__k1__constant_value is close to the specified upper bound 100000.0. Increasing the bound and calling fit again may find a better value.\n",
            "  warnings.warn(\n",
            "/home/ubuntu/.local/lib/python3.8/site-packages/sklearn/gaussian_process/kernels.py:430: ConvergenceWarning: The optimal value found for dimension 0 of parameter k1__k2__length_scale is close to the specified upper bound 100000.0. Increasing the bound and calling fit again may find a better value.\n",
            "  warnings.warn(\n",
            "/home/ubuntu/.local/lib/python3.8/site-packages/sklearn/gaussian_process/kernels.py:430: ConvergenceWarning: The optimal value found for dimension 0 of parameter k2__noise_level is close to the specified upper bound 100000.0. Increasing the bound and calling fit again may find a better value.\n",
            "  warnings.warn(\n"
          ]
        }
      ],
      "source": [
        "from sklearn.preprocessing import StandardScaler\n",
        "X = df[['Open', 'High', 'Low', 'Close', 'Adj Close', 'Volume']]\n",
        "y = df['Close']\n",
        "\n",
        "# Membagi dataset menjadi data latih dan data uji\n",
        "X_train, X_test, y_train, y_test = train_test_split(X, y, test_size=0.2, random_state=42)\n",
        "scaler = StandardScaler()\n",
        "X_train_scaled = scaler.fit_transform(X_train)\n",
        "X_test_scaled = scaler.transform(X_test)\n",
        "# Membuat model KNeighborsRegressor\n",
        "kernel = 1.0 * RBF(length_scale=1.0) + WhiteKernel(noise_level=1.0)\n",
        "regressor = GaussianProcessRegressor(kernel=kernel, random_state=42)\n",
        "\n",
        "# Melatih model dengan data latih\n",
        "regressor.fit(X_train_scaled, y_train)\n",
        "\n",
        "# Melakukan prediksi pada data uji\n",
        "y_pred = regressor.predict(X_test_scaled)\n",
        "# Menghitung MAPE\n",
        "mape = mean_absolute_percentage_error(y_test, y_pred)\n",
        "print(f\"Mean Absolute Percentage Error (MAPE): {mape}\")"
      ]
    },
    {
      "cell_type": "code",
      "execution_count": null,
      "metadata": {
        "id": "3ldAhLJelHGO",
        "outputId": "bd72f4f0-f2bc-4241-af33-c8f159e985c4"
      },
      "outputs": [
        {
          "name": "stdout",
          "output_type": "stream",
          "text": [
            "Mean Absolute Percentage Error (MAPE): 0.005708466411357785\n"
          ]
        }
      ],
      "source": [
        "regressor = KNeighborsRegressor(n_neighbors=5)\n",
        "\n",
        "# Melatih model dengan data latih\n",
        "regressor.fit(X_train_scaled, y_train)\n",
        "\n",
        "# Melakukan prediksi pada data uji\n",
        "y_pred = regressor.predict(X_test_scaled)\n",
        "# Menghitung MAPE\n",
        "mape = mean_absolute_percentage_error(y_test, y_pred)\n",
        "print(f\"Mean Absolute Percentage Error (MAPE): {mape}\")"
      ]
    },
    {
      "cell_type": "code",
      "execution_count": null,
      "metadata": {
        "id": "6iFnQYdilHGP",
        "outputId": "f10fdf03-58ef-4c6e-b036-50033c81f7a0"
      },
      "outputs": [
        {
          "name": "stdout",
          "output_type": "stream",
          "text": [
            "Mean Absolute Percentage Error (MAPE): 0.0016740807351099069\n"
          ]
        }
      ],
      "source": [
        "# Menginisialisasi RandomForest Regressor\n",
        "regressor = RandomForestRegressor(n_estimators=100, random_state=42)\n",
        "\n",
        "# Melatih model dengan data latih\n",
        "regressor.fit(X_train_scaled, y_train)\n",
        "\n",
        "# Melakukan prediksi pada data uji\n",
        "y_pred = regressor.predict(X_test_scaled)\n",
        "\n",
        "# Menghitung MAPE\n",
        "mape = mean_absolute_percentage_error(y_test, y_pred)\n",
        "print(f\"Mean Absolute Percentage Error (MAPE): {mape}\")"
      ]
    },
    {
      "cell_type": "code",
      "execution_count": null,
      "metadata": {
        "id": "aZ3T7BCDlHGR",
        "outputId": "36ecdcba-a796-4dd5-9cfb-df541af89b34"
      },
      "outputs": [
        {
          "name": "stdout",
          "output_type": "stream",
          "text": [
            "Mean Absolute Percentage Error (MAPE): 0.0016207680458852538\n"
          ]
        }
      ],
      "source": [
        "from sklearn.linear_model import Ridge\n",
        "# Menginisialisasi estimator LinearSVR dan Ridge\n",
        "estimators = [\n",
        "    ('svr', LinearSVR(random_state=42)),\n",
        "    ('ridge', Ridge(random_state=42))\n",
        "]\n",
        "\n",
        "# Menginisialisasi Stacking Regressor\n",
        "regressor = StackingRegressor(estimators=estimators, final_estimator=Ridge())\n",
        "\n",
        "# Melatih model dengan data latih\n",
        "regressor.fit(X_train_scaled, y_train)\n",
        "\n",
        "# Melakukan prediksi pada data uji\n",
        "y_pred = regressor.predict(X_test_scaled)\n",
        "# Menghitung MAPE\n",
        "mape = mean_absolute_percentage_error(y_test, y_pred)\n",
        "print(f\"Mean Absolute Percentage Error (MAPE): {mape}\")"
      ]
    },
    {
      "cell_type": "code",
      "execution_count": null,
      "metadata": {
        "id": "wrg-huUFlHGS",
        "outputId": "b384a44c-79a3-46f9-c0e5-62549922766e"
      },
      "outputs": [
        {
          "name": "stdout",
          "output_type": "stream",
          "text": [
            "Mean Absolute Percentage Error (MAPE): 0.0016576314209820109\n"
          ]
        }
      ],
      "source": [
        "regressor = DecisionTreeRegressor(random_state=42)\n",
        "\n",
        "# Melatih model dengan data latih\n",
        "regressor.fit(X_train_scaled, y_train)\n",
        "\n",
        "# Melakukan prediksi pada data uji\n",
        "y_pred = regressor.predict(X_test_scaled)\n",
        "\n",
        "# Menghitung MAPE\n",
        "mape = mean_absolute_percentage_error(y_test, y_pred)\n",
        "print(f\"Mean Absolute Percentage Error (MAPE): {mape}\")"
      ]
    },
    {
      "cell_type": "code",
      "execution_count": null,
      "metadata": {
        "id": "DoRW35VvlHGT",
        "outputId": "ce4777d4-3ba9-4c69-c676-62068b7fcd04"
      },
      "outputs": [
        {
          "name": "stdout",
          "output_type": "stream",
          "text": [
            "0.0\n"
          ]
        }
      ],
      "source": [
        "regressor = LinearRegression()\n",
        "\n",
        "# Melatih model dengan data latih\n",
        "regressor.fit(X_train_scaled, y_train)\n",
        "\n",
        "# Melakukan prediksi pada data uji\n",
        "y_pred = regressor.predict(X_test_scaled)\n",
        "\n",
        "# Menghitung MAPE\n",
        "mape = mean_absolute_percentage_error(y_test, y_pred)\n",
        "print(mape)"
      ]
    },
    {
      "cell_type": "code",
      "execution_count": null,
      "metadata": {
        "id": "5WHoeoFvlHGU",
        "outputId": "a8027932-2819-493f-bf3c-466466a97261"
      },
      "outputs": [
        {
          "name": "stdout",
          "output_type": "stream",
          "text": [
            "Mean Absolute Percentage Error (MAPE): 0.07114306104346281\n"
          ]
        }
      ],
      "source": [
        "# Menginisialisasi Dummy Regressor\n",
        "regressor = DummyRegressor(strategy='mean')\n",
        "\n",
        "# Melatih model dengan data latih\n",
        "regressor.fit(X_train_scaled, y_train)\n",
        "\n",
        "# Melakukan prediksi pada data uji\n",
        "y_pred = regressor.predict(X_test_scaled)\n",
        "\n",
        "# Menghitung MAPE\n",
        "mape = mean_absolute_percentage_error(y_test, y_pred)\n",
        "print(f\"Mean Absolute Percentage Error (MAPE): {mape}\")"
      ]
    }
  ],
  "metadata": {
    "language_info": {
      "name": "python"
    },
    "orig_nbformat": 4,
    "colab": {
      "provenance": [],
      "toc_visible": true,
      "include_colab_link": true
    },
    "kernelspec": {
      "name": "python3",
      "display_name": "Python 3"
    }
  },
  "nbformat": 4,
  "nbformat_minor": 0
}